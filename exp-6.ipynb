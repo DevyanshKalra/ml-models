{
 "cells": [
  {
   "cell_type": "code",
   "execution_count": 4,
   "metadata": {},
   "outputs": [],
   "source": [
    "\n",
    "import pandas as pd\n",
    "df = pd.read_csv(r\"C:\\Users\\Devyansh\\Desktop\\Core Subjects\\ML\\datasets\\apple_quality.csv\")"
   ]
  },
  {
   "cell_type": "code",
   "execution_count": 5,
   "metadata": {},
   "outputs": [],
   "source": [
    "from sklearn.model_selection import train_test_split\n",
    "X=df.drop(['Quality'],axis=1)\n",
    "Y=pd.DataFrame(df['Quality'])\n",
    "X_train,X_test,Y_train,Y_test = train_test_split(X,Y,test_size = 0.2, stratify = Y, random_state = 43)\n"
   ]
  },
  {
   "cell_type": "code",
   "execution_count": 9,
   "metadata": {},
   "outputs": [],
   "source": [
    "from sklearn.tree import DecisionTreeClassifier\n",
    "model = DecisionTreeClassifier()\n",
    "model = model.fit(X_train,Y_train)\n",
    "Y_pred = model.predict(X_test)"
   ]
  },
  {
   "cell_type": "code",
   "execution_count": 10,
   "metadata": {},
   "outputs": [
    {
     "name": "stdout",
     "output_type": "stream",
     "text": [
      "Accuracy: 79.375\n"
     ]
    }
   ],
   "source": [
    "from sklearn import metrics\n",
    "print(\"Accuracy:\",metrics.accuracy_score(Y_test,Y_pred)*100)"
   ]
  },
  {
   "cell_type": "code",
   "execution_count": 11,
   "metadata": {},
   "outputs": [
    {
     "name": "stdout",
     "output_type": "stream",
     "text": [
      "              precision    recall  f1-score   support\n",
      "\n",
      "         bad       0.79      0.79      0.79       399\n",
      "        good       0.79      0.80      0.79       401\n",
      "\n",
      "    accuracy                           0.79       800\n",
      "   macro avg       0.79      0.79      0.79       800\n",
      "weighted avg       0.79      0.79      0.79       800\n",
      "\n"
     ]
    }
   ],
   "source": [
    "from sklearn.metrics import classification_report,confusion_matrix\n",
    "print(classification_report(Y_test,Y_pred))"
   ]
  },
  {
   "cell_type": "code",
   "execution_count": 12,
   "metadata": {},
   "outputs": [
    {
     "data": {
      "text/plain": [
       "<Axes: >"
      ]
     },
     "execution_count": 12,
     "metadata": {},
     "output_type": "execute_result"
    },
    {
     "data": {
      "image/png": "[encoded data removed]",
      "text/plain": [
       "<Figure size 640x480 with 2 Axes>"
      ]
     },
     "metadata": {},
     "output_type": "display_data"
    }
   ],
   "source": [
    "import seaborn as sns\n",
    "cm=confusion_matrix(Y_test,Y_pred)\n",
    "sns.heatmap(cm,annot=True)\n"
   ]
  },
  {
   "cell_type": "code",
   "execution_count": 5,
   "metadata": {},
   "outputs": [
    {
     "name": "stdout",
     "output_type": "stream",
     "text": [
      "['bad' 'good' 'good' 'bad' 'good' 'good' 'bad' 'bad' 'good' 'bad' 'bad'\n",
      " 'bad' 'good' 'good' 'good' 'good' 'good' 'bad' 'good' 'bad' 'good' 'good'\n",
      " 'bad' 'good' 'bad' 'good' 'good' 'bad' 'bad' 'bad' 'good' 'good' 'good'\n",
      " 'bad' 'bad' 'bad' 'bad' 'good' 'bad' 'bad' 'bad' 'bad' 'bad' 'good'\n",
      " 'good' 'good' 'good' 'bad' 'good' 'bad' 'bad' 'good' 'bad' 'good' 'good'\n",
      " 'bad' 'good' 'bad' 'bad' 'good' 'good' 'bad' 'bad' 'good' 'good' 'bad'\n",
      " 'good' 'good' 'bad' 'bad' 'bad' 'good' 'good' 'good' 'good' 'good' 'bad'\n",
      " 'good' 'bad' 'good' 'bad' 'good' 'bad' 'good' 'good' 'bad' 'good' 'good'\n",
      " 'good' 'good' 'bad' 'good' 'bad' 'bad' 'good' 'good' 'good' 'good' 'good'\n",
      " 'bad' 'good' 'good' 'bad' 'good' 'good' 'bad' 'bad' 'good' 'bad' 'bad'\n",
      " 'bad' 'good' 'good' 'bad' 'good' 'bad' 'bad' 'good' 'good' 'good' 'good'\n",
      " 'bad' 'good' 'good' 'bad' 'bad' 'good' 'bad' 'bad' 'bad' 'bad' 'good'\n",
      " 'good' 'bad' 'bad' 'bad' 'good' 'bad' 'bad' 'good' 'good' 'good' 'bad'\n",
      " 'bad' 'good' 'good' 'good' 'bad' 'good' 'bad' 'bad' 'bad' 'bad' 'good'\n",
      " 'good' 'good' 'good' 'good' 'bad' 'good' 'good' 'good' 'bad' 'good' 'bad'\n",
      " 'good' 'bad' 'good' 'bad' 'bad' 'bad' 'good' 'good' 'good' 'good' 'good'\n",
      " 'good' 'bad' 'bad' 'good' 'bad' 'good' 'good' 'bad' 'good' 'bad' 'bad'\n",
      " 'bad' 'bad' 'good' 'bad' 'bad' 'good' 'good' 'good' 'good' 'good' 'bad'\n",
      " 'bad' 'good' 'bad' 'good' 'bad' 'good' 'bad' 'good' 'bad' 'bad' 'good'\n",
      " 'bad' 'good' 'good' 'good' 'good' 'bad' 'good' 'good' 'good' 'bad' 'good'\n",
      " 'good' 'bad' 'bad' 'bad' 'bad' 'good' 'good' 'bad' 'good' 'good' 'good'\n",
      " 'good' 'good' 'bad' 'bad' 'bad' 'bad' 'good' 'good' 'bad' 'good' 'good'\n",
      " 'good' 'bad' 'good' 'bad' 'good' 'good' 'bad' 'good' 'good' 'bad' 'good'\n",
      " 'good' 'good' 'bad' 'good' 'bad' 'bad' 'bad' 'good' 'good' 'bad' 'good'\n",
      " 'bad' 'good' 'good' 'good' 'good' 'bad' 'bad' 'bad' 'bad' 'good' 'good'\n",
      " 'bad' 'bad' 'bad' 'good' 'good' 'good' 'bad' 'bad' 'bad' 'bad' 'good'\n",
      " 'good' 'bad' 'bad' 'good' 'bad' 'bad' 'good' 'bad' 'bad' 'bad' 'good'\n",
      " 'good' 'bad' 'bad' 'good' 'good' 'bad' 'bad' 'good' 'bad' 'good' 'good'\n",
      " 'bad' 'good' 'bad' 'good' 'good' 'bad' 'bad' 'good' 'bad' 'good' 'bad'\n",
      " 'bad' 'good' 'bad' 'bad' 'bad' 'bad' 'good' 'bad' 'bad' 'good' 'good'\n",
      " 'bad' 'good' 'bad' 'bad' 'good' 'good' 'bad' 'bad' 'good' 'bad' 'bad'\n",
      " 'good' 'bad' 'good' 'bad' 'bad' 'good' 'good' 'good' 'good' 'bad' 'good'\n",
      " 'good' 'bad' 'good' 'bad' 'bad' 'good' 'bad' 'bad' 'bad' 'bad' 'good'\n",
      " 'good' 'bad' 'good' 'good' 'bad' 'bad' 'bad' 'bad' 'bad' 'bad' 'bad'\n",
      " 'good' 'good' 'bad' 'good' 'good' 'bad' 'good' 'good' 'good' 'bad' 'bad'\n",
      " 'good' 'bad' 'bad' 'bad' 'good' 'good' 'good' 'good' 'bad' 'bad' 'bad'\n",
      " 'bad' 'good' 'good' 'bad' 'bad' 'bad' 'good' 'good' 'bad' 'bad' 'good'\n",
      " 'good' 'good' 'good' 'bad' 'bad' 'good' 'good' 'bad' 'good' 'good' 'good'\n",
      " 'good' 'bad' 'bad' 'bad' 'bad' 'good' 'good' 'good' 'good' 'good' 'bad'\n",
      " 'good' 'bad' 'good' 'bad' 'bad' 'bad' 'bad' 'good' 'bad' 'good' 'good'\n",
      " 'bad' 'bad' 'good' 'bad' 'bad' 'bad' 'bad' 'good' 'good' 'bad' 'good'\n",
      " 'good' 'bad' 'good' 'bad' 'good' 'bad' 'good' 'good' 'good' 'good' 'bad'\n",
      " 'bad' 'bad' 'bad' 'good' 'good' 'bad' 'bad' 'bad' 'bad' 'good' 'good'\n",
      " 'bad' 'bad' 'bad' 'good' 'bad' 'good' 'good' 'bad' 'good' 'bad' 'good'\n",
      " 'good' 'bad' 'bad' 'good' 'good' 'good' 'bad' 'good' 'good' 'good' 'bad'\n",
      " 'good' 'bad' 'bad' 'good' 'good' 'good' 'good' 'bad' 'good' 'good' 'bad'\n",
      " 'bad' 'good' 'good' 'bad' 'bad' 'bad' 'bad' 'bad' 'bad' 'bad' 'bad'\n",
      " 'good' 'bad' 'bad' 'good' 'bad' 'bad' 'bad' 'bad' 'good' 'good' 'bad'\n",
      " 'bad' 'good' 'bad' 'bad' 'good' 'bad' 'bad' 'bad' 'good' 'good' 'good'\n",
      " 'bad' 'good' 'bad' 'bad' 'good' 'bad' 'good' 'bad' 'bad' 'bad' 'bad'\n",
      " 'good' 'bad' 'good' 'bad' 'bad' 'bad' 'good' 'good' 'bad' 'bad' 'bad'\n",
      " 'bad' 'good' 'bad' 'bad' 'bad' 'good' 'good' 'good' 'good' 'bad' 'bad'\n",
      " 'good' 'good' 'good' 'bad' 'bad' 'bad' 'good' 'bad' 'bad' 'bad' 'bad'\n",
      " 'good' 'good' 'bad' 'good' 'bad' 'bad' 'bad' 'bad' 'bad' 'bad' 'bad'\n",
      " 'good' 'bad' 'bad' 'bad' 'good' 'good' 'good' 'bad' 'good' 'good' 'good'\n",
      " 'good' 'bad' 'bad' 'bad' 'good' 'good' 'good' 'good' 'good' 'bad' 'bad'\n",
      " 'bad' 'good' 'good' 'good' 'bad' 'bad' 'good' 'good' 'bad' 'good' 'good'\n",
      " 'good' 'good' 'bad' 'bad' 'bad' 'good' 'bad' 'good' 'good' 'bad' 'good'\n",
      " 'bad' 'good' 'bad' 'bad' 'bad' 'good' 'bad' 'good' 'good' 'good' 'bad'\n",
      " 'bad' 'bad' 'good' 'bad' 'good' 'bad' 'good' 'bad' 'bad' 'good' 'bad'\n",
      " 'good' 'good' 'bad' 'bad' 'good' 'good' 'bad' 'good' 'bad' 'good' 'good'\n",
      " 'bad' 'bad' 'good' 'good' 'good' 'good' 'good' 'good' 'good' 'bad' 'good'\n",
      " 'bad' 'good' 'bad' 'good' 'bad' 'good' 'good' 'bad' 'good' 'good' 'good'\n",
      " 'good' 'bad' 'good' 'good' 'bad' 'good' 'good' 'good' 'good' 'good' 'bad'\n",
      " 'bad' 'good' 'bad' 'good' 'good' 'good' 'bad' 'bad' 'good' 'bad' 'good'\n",
      " 'bad' 'bad' 'good' 'good' 'bad' 'good' 'bad' 'bad' 'good' 'good' 'bad'\n",
      " 'bad' 'bad' 'bad' 'bad' 'good' 'good' 'bad' 'bad' 'good' 'bad' 'good'\n",
      " 'good' 'bad' 'bad' 'good' 'good' 'good' 'good' 'good' 'bad' 'good' 'bad'\n",
      " 'good' 'bad' 'bad' 'bad' 'bad' 'good' 'good' 'good' 'bad' 'bad' 'good'\n",
      " 'bad' 'good' 'good' 'good' 'bad' 'bad' 'bad' 'bad' 'bad' 'bad' 'bad'\n",
      " 'good' 'good' 'good' 'bad' 'good' 'good' 'good' 'good' 'bad' 'bad' 'good'\n",
      " 'bad' 'bad' 'good' 'bad' 'bad' 'bad' 'bad' 'good' 'bad' 'good' 'good'\n",
      " 'bad' 'bad' 'good' 'bad' 'bad' 'good' 'good' 'bad']\n"
     ]
    },
    {
     "name": "stderr",
     "output_type": "stream",
     "text": [
      "c:\\Users\\Devyansh\\Desktop\\Core Subjects\\ML\\venv\\Lib\\site-packages\\sklearn\\utils\\validation.py:1300: DataConversionWarning: A column-vector y was passed when a 1d array was expected. Please change the shape of y to (n_samples, ), for example using ravel().\n",
      "  y = column_or_1d(y, warn=True)\n"
     ]
    }
   ],
   "source": []
  }
 ],
 "metadata": {
  "kernelspec": {
   "display_name": "venv",
   "language": "python",
   "name": "python3"
  },
  "language_info": {
   "codemirror_mode": {
    "name": "ipython",
    "version": 3
   },
   "file_extension": ".py",
   "mimetype": "text/x-python",
   "name": "python",
   "nbconvert_exporter": "python",
   "pygments_lexer": "ipython3",
   "version": "3.11.9"
  }
 },
 "nbformat": 4,
 "nbformat_minor": 2
}

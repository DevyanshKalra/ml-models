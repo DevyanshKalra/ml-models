{
 "cells": [
  {
   "cell_type": "code",
   "execution_count": 2,
   "metadata": {},
   "outputs": [],
   "source": [
    "from statsmodels.stats.outliers_influence import variance_inflation_factor\n",
    "import pandas as pd\n",
    "df = pd.read_csv(r\"C:\\Users\\Devyansh\\Desktop\\Core Subjects\\ML\\datasets\\apple_quality.csv\")"
   ]
  },
  {
   "cell_type": "code",
   "execution_count": 3,
   "metadata": {},
   "outputs": [
    {
     "name": "stdout",
     "output_type": "stream",
     "text": [
      "       feature       VIF\n",
      "0         A_id  1.836586\n",
      "1         Size  1.430332\n",
      "2       Weight  1.756768\n",
      "3    Sweetness  1.509103\n",
      "4  Crunchiness  1.604741\n",
      "5    Juiciness  1.265804\n",
      "6     Ripeness  1.579974\n",
      "7      Acidity  1.171848\n"
     ]
    }
   ],
   "source": [
    "numeric_columns = df.select_dtypes(include=['float64', 'int64']).columns\n",
    "\n",
    "vif_data = pd.DataFrame()\n",
    "vif_data[\"feature\"] = numeric_columns\n",
    "vif_data[\"VIF\"] = [variance_inflation_factor(df[numeric_columns].values, i) for i in range(len(numeric_columns))]\n",
    "\n",
    "print(vif_data)"
   ]
  },
  {
   "cell_type": "code",
   "execution_count": 4,
   "metadata": {},
   "outputs": [],
   "source": [
    "from sklearn import preprocessing \n",
    "label_encoder = preprocessing.LabelEncoder() \n",
    "df['Quality']= label_encoder.fit_transform(df['Quality']) "
   ]
  },
  {
   "cell_type": "code",
   "execution_count": 5,
   "metadata": {},
   "outputs": [
    {
     "name": "stdout",
     "output_type": "stream",
     "text": [
      "                            OLS Regression Results                            \n",
      "==============================================================================\n",
      "Dep. Variable:                Quality   R-squared:                       0.300\n",
      "Model:                            OLS   Adj. R-squared:                  0.299\n",
      "Method:                 Least Squares   F-statistic:                     244.2\n",
      "Date:                Thu, 21 Mar 2024   Prob (F-statistic):          2.78e-303\n",
      "Time:                        12:06:24   Log-Likelihood:                -2190.3\n",
      "No. Observations:                4000   AIC:                             4397.\n",
      "Df Residuals:                    3992   BIC:                             4447.\n",
      "Df Model:                           7                                         \n",
      "Covariance Type:            nonrobust                                         \n",
      "===============================================================================\n",
      "                  coef    std err          t      P>|t|      [0.025      0.975]\n",
      "-------------------------------------------------------------------------------\n",
      "const           0.6164      0.010     58.896      0.000       0.596       0.637\n",
      "Size            0.1110      0.004     27.186      0.000       0.103       0.119\n",
      "Weight          0.0461      0.005      9.604      0.000       0.037       0.055\n",
      "Sweetness       0.0985      0.004     23.774      0.000       0.090       0.107\n",
      "Crunchiness     0.0072      0.005      1.388      0.165      -0.003       0.017\n",
      "Juiciness       0.0770      0.004     20.324      0.000       0.070       0.084\n",
      "Ripeness       -0.0206      0.004     -4.787      0.000      -0.029      -0.012\n",
      "Acidity        -0.0517      0.003    -15.203      0.000      -0.058      -0.045\n",
      "==============================================================================\n",
      "Omnibus:                      810.945   Durbin-Watson:                   2.027\n",
      "Prob(Omnibus):                  0.000   Jarque-Bera (JB):              170.696\n",
      "Skew:                          -0.132   Prob(JB):                     8.59e-38\n",
      "Kurtosis:                       2.023   Cond. No.                         4.26\n",
      "==============================================================================\n",
      "\n",
      "Notes:\n",
      "[1] Standard Errors assume that the covariance matrix of the errors is correctly specified.\n"
     ]
    }
   ],
   "source": [
    "import statsmodels.api as sm    \n",
    "X = df[[\"Size\",\"Weight\",\"Sweetness\",\"Crunchiness\",\"Juiciness\",\"Ripeness\",\"Acidity\"]]\n",
    "Y = df[[\"Quality\"]]\n",
    "X = sm.add_constant(X)\n",
    "model = sm.OLS(Y.astype(float),X.astype(float)).fit()\n",
    "p_values = model.pvalues[[\"Size\",\"Weight\",\"Sweetness\",\"Crunchiness\",\"Juiciness\",\"Ripeness\",\"Acidity\"]]\n",
    "p_values\n",
    "print(model.summary())\n"
   ]
  },
  {
   "cell_type": "code",
   "execution_count": 6,
   "metadata": {},
   "outputs": [
    {
     "name": "stdout",
     "output_type": "stream",
     "text": [
      "(4000, 8) (3200, 8) (800, 8) (800, 1)\n"
     ]
    },
    {
     "data": {
      "text/html": [
       "<div>\n",
       "<style scoped>\n",
       "    .dataframe tbody tr th:only-of-type {\n",
       "        vertical-align: middle;\n",
       "    }\n",
       "\n",
       "    .dataframe tbody tr th {\n",
       "        vertical-align: top;\n",
       "    }\n",
       "\n",
       "    .dataframe thead th {\n",
       "        text-align: right;\n",
       "    }\n",
       "</style>\n",
       "<table border=\"1\" class=\"dataframe\">\n",
       "  <thead>\n",
       "    <tr style=\"text-align: right;\">\n",
       "      <th></th>\n",
       "      <th>Quality</th>\n",
       "    </tr>\n",
       "  </thead>\n",
       "  <tbody>\n",
       "    <tr>\n",
       "      <th>2175</th>\n",
       "      <td>1</td>\n",
       "    </tr>\n",
       "    <tr>\n",
       "      <th>2031</th>\n",
       "      <td>1</td>\n",
       "    </tr>\n",
       "    <tr>\n",
       "      <th>2636</th>\n",
       "      <td>1</td>\n",
       "    </tr>\n",
       "    <tr>\n",
       "      <th>886</th>\n",
       "      <td>1</td>\n",
       "    </tr>\n",
       "    <tr>\n",
       "      <th>1352</th>\n",
       "      <td>0</td>\n",
       "    </tr>\n",
       "    <tr>\n",
       "      <th>...</th>\n",
       "      <td>...</td>\n",
       "    </tr>\n",
       "    <tr>\n",
       "      <th>2920</th>\n",
       "      <td>0</td>\n",
       "    </tr>\n",
       "    <tr>\n",
       "      <th>926</th>\n",
       "      <td>0</td>\n",
       "    </tr>\n",
       "    <tr>\n",
       "      <th>2641</th>\n",
       "      <td>0</td>\n",
       "    </tr>\n",
       "    <tr>\n",
       "      <th>3014</th>\n",
       "      <td>0</td>\n",
       "    </tr>\n",
       "    <tr>\n",
       "      <th>2551</th>\n",
       "      <td>1</td>\n",
       "    </tr>\n",
       "  </tbody>\n",
       "</table>\n",
       "<p>3200 rows × 1 columns</p>\n",
       "</div>"
      ],
      "text/plain": [
       "      Quality\n",
       "2175        1\n",
       "2031        1\n",
       "2636        1\n",
       "886         1\n",
       "1352        0\n",
       "...       ...\n",
       "2920        0\n",
       "926         0\n",
       "2641        0\n",
       "3014        0\n",
       "2551        1\n",
       "\n",
       "[3200 rows x 1 columns]"
      ]
     },
     "execution_count": 6,
     "metadata": {},
     "output_type": "execute_result"
    }
   ],
   "source": [
    "from sklearn.model_selection import train_test_split\n",
    "\n",
    "X = df.drop([\"Quality\"],axis=1)\n",
    "Y = pd.DataFrame(df[\"Quality\"])\n",
    "X_train,X_test,Y_train,Y_test = train_test_split(X,Y,test_size = 0.2, stratify = Y, random_state = 43)\n",
    "print(X.shape,X_train.shape,X_test.shape,Y_test.shape)\n",
    "Y_train"
   ]
  },
  {
   "cell_type": "code",
   "execution_count": 7,
   "metadata": {},
   "outputs": [
    {
     "name": "stdout",
     "output_type": "stream",
     "text": [
      "Mean Absolute Error:  0.3574553259989267\n",
      "Mean Squared Error:  0.1687727373996289\n",
      "Root Mean Squared Error:  0.4108195922782029\n",
      "R2 Score:  0.32490483105667844\n"
     ]
    }
   ],
   "source": [
    "from sklearn import metrics\n",
    "from sklearn.linear_model import LinearRegression\n",
    "from sklearn.metrics import accuracy_score\n",
    "from math import sqrt\n",
    "model = LinearRegression()\n",
    "model.fit(X_train,Y_train),\n",
    "Y_pred = model.predict(X_test)\n",
    "print(\"Mean Absolute Error: \", metrics.mean_absolute_error(Y_test,Y_pred))\n",
    "print(\"Mean Squared Error: \", metrics.mean_squared_error(Y_test,Y_pred))\n",
    "print(\"Root Mean Squared Error: \", sqrt(metrics.mean_squared_error(Y_test,Y_pred)))\n",
    "print(\"R2 Score: \", metrics.r2_score(Y_test,Y_pred))"
   ]
  }
 ],
 "metadata": {
  "kernelspec": {
   "display_name": "venv",
   "language": "python",
   "name": "python3"
  },
  "language_info": {
   "codemirror_mode": {
    "name": "ipython",
    "version": 3
   },
   "file_extension": ".py",
   "mimetype": "text/x-python",
   "name": "python",
   "nbconvert_exporter": "python",
   "pygments_lexer": "ipython3",
   "version": "3.11.9"
  }
 },
 "nbformat": 4,
 "nbformat_minor": 2
}
